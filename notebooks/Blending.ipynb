{
 "cells": [
  {
   "cell_type": "markdown",
   "metadata": {},
   "source": [
    "Based on https://www.kaggle.com/nicapotato/tf-idf-xgboosts"
   ]
  },
  {
   "cell_type": "code",
   "execution_count": null,
   "metadata": {},
   "outputs": [],
   "source": [
    "import numpy as np\n",
    "import pandas as pd\n",
    "\n",
    "from sklearn.feature_extraction.text import TfidfVectorizer\n",
    "from sklearn.linear_model import LogisticRegression\n",
    "from sklearn.model_selection import cross_val_score\n",
    "from scipy.sparse import hstack\n",
    "import xgboost as xgb\n",
    "from xgboost.sklearn import XGBClassifier # <3\n",
    "from sklearn.model_selection import train_test_split\n",
    "import gc\n",
    "\n",
    "class_names = ['toxic', 'severe_toxic', 'obscene', 'threat', 'insult', 'identity_hate']"
   ]
  },
  {
   "cell_type": "code",
   "execution_count": null,
   "metadata": {},
   "outputs": [],
   "source": [
    "# cleaned text files. Refer notebook \"Preprocessing Text\"\n",
    "train_file = 'train_cleaned.csv' #train.csv\n",
    "test_file = 'test_cleaned.csv' #test.csv\n",
    "\n",
    "train = pd.read_csv('../input/' + train_file).fillna(' ')#.sample(1000)\n",
    "test = pd.read_csv('../input/' + test_file).fillna(' ')#.sample(1000)\n",
    "\n",
    "train_text = train['comment_text']\n",
    "test_text = test['comment_text']\n",
    "all_text = pd.concat([train_text, test_text])\n",
    "\n",
    "train = train.loc[:,class_names]"
   ]
  },
  {
   "cell_type": "markdown",
   "metadata": {},
   "source": [
    "### Feature building"
   ]
  },
  {
   "cell_type": "code",
   "execution_count": null,
   "metadata": {},
   "outputs": [],
   "source": [
    "word_vectorizer = TfidfVectorizer(\n",
    "    sublinear_tf=True,\n",
    "    strip_accents='unicode',\n",
    "    analyzer='word',\n",
    "    token_pattern=r'\\w{1,}',\n",
    "    stop_words='english',\n",
    "    ngram_range=(1, 1),\n",
    "    max_features=15000)\n",
    "word_vectorizer.fit(all_text)\n",
    "train_word_features = word_vectorizer.transform(train_text)\n",
    "test_word_features = word_vectorizer.transform(test_text)"
   ]
  },
  {
   "cell_type": "code",
   "execution_count": null,
   "metadata": {},
   "outputs": [],
   "source": [
    "bigram_vectorizer = TfidfVectorizer(\n",
    "    max_features=10000,\n",
    "    strip_accents='unicode', \n",
    "    analyzer='word',\n",
    "    ngram_range=(1,2),\n",
    "    use_idf=1,\n",
    "    smooth_idf=True,\n",
    "    sublinear_tf=False,\n",
    "    stop_words = 'english', \n",
    "    dtype=np.float32)\n",
    "\n",
    "bigram_vectorizer.fit(all_text)\n",
    "train_bigram_features = bigram_vectorizer.transform(train_text)\n",
    "test_bigram_features = bigram_vectorizer.transform(test_text)"
   ]
  },
  {
   "cell_type": "code",
   "execution_count": null,
   "metadata": {},
   "outputs": [],
   "source": [
    "char_vectorizer = TfidfVectorizer(\n",
    "    sublinear_tf=True,\n",
    "    strip_accents='unicode',\n",
    "    analyzer='char',\n",
    "    stop_words='english',\n",
    "    ngram_range=(2, 6),\n",
    "    norm='l2',\n",
    "    min_df=0,\n",
    "    smooth_idf=False,\n",
    "    max_features=50000)\n",
    "char_vectorizer.fit(all_text)\n",
    "train_char_features = char_vectorizer.transform(train_text)\n",
    "test_char_features = char_vectorizer.transform(test_text)"
   ]
  },
  {
   "cell_type": "code",
   "execution_count": null,
   "metadata": {},
   "outputs": [],
   "source": [
    "import pickle\n",
    "\n",
    "#pickle.dump(train_char_features, open('../models/train_char_vectors.pkl', 'wb'))\n",
    "#pickle.dump(test_char_features, open('../models/test_char_vectors.pkl', 'wb'))\n",
    "\n",
    "train_char_features = pickle.load( open('../models/train_char_vectors.pkl', 'rb') )\n",
    "test_char_features = pickle.load( open('../models/test_char_vectors.pkl', 'rb') )"
   ]
  },
  {
   "cell_type": "code",
   "execution_count": null,
   "metadata": {},
   "outputs": [],
   "source": [
    "train_features = hstack([train_char_features, train_word_features])\n",
    "del train_char_features,train_word_features\n",
    "test_features = hstack([test_char_features, test_word_features])\n",
    "del test_char_features,test_word_features\n",
    "\n",
    "print(train_features.shape)\n",
    "print(test_features.shape)\n",
    "d_test = xgb.DMatrix(test_features)\n",
    "del test_features\n",
    "gc.collect()"
   ]
  },
  {
   "cell_type": "code",
   "execution_count": null,
   "metadata": {},
   "outputs": [],
   "source": [
    "## Indirect features\n",
    "\n",
    "#Sentense count in each comment:\n",
    "    #  '\\n' can be used to count the number of sentences in each comment\n",
    "df['count_sent']=df[\"comment_text\"].apply(lambda x: len(re.findall(\"\\n\",str(x)))+1)\n",
    "#Word count in each comment:\n",
    "df['count_word']=df[\"comment_text\"].apply(lambda x: len(str(x).split()))\n",
    "#Unique word count\n",
    "df['count_unique_word']=df[\"comment_text\"].apply(lambda x: len(set(str(x).split())))\n",
    "#Letter count\n",
    "df['count_letters']=df[\"comment_text\"].apply(lambda x: len(str(x)))\n",
    "#punctuation count\n",
    "df[\"count_punctuations\"] =df[\"comment_text\"].apply(lambda x: len([c for c in str(x) if c in string.punctuation]))\n",
    "#upper case words count\n",
    "df[\"count_words_upper\"] = df[\"comment_text\"].apply(lambda x: len([w for w in str(x).split() if w.isupper()]))\n",
    "#title case words count\n",
    "df[\"count_words_title\"] = df[\"comment_text\"].apply(lambda x: len([w for w in str(x).split() if w.istitle()]))\n",
    "#Number of stopwords\n",
    "df[\"count_stopwords\"] = df[\"comment_text\"].apply(lambda x: len([w for w in str(x).lower().split() if w in eng_stopwords]))\n",
    "#Average length of the words\n",
    "df[\"mean_word_len\"] = df[\"comment_text\"].apply(lambda x: np.mean([len(w) for w in str(x).split()]))\n",
    "\n",
    "#derived features\n",
    "#Word count percent in each comment:\n",
    "df['word_unique_percent'] = df['count_unique_word']/df['count_word']\n",
    "#derived features\n",
    "#Punct percent in each comment:\n",
    "df['punct_percent'] = df['count_punctuations']/df['count_word']\n",
    "# upper case percent\n",
    "df['upper_percent'] = df[\"count_words_upper\"]/ df['count_letters']"
   ]
  },
  {
   "cell_type": "markdown",
   "metadata": {},
   "source": [
    "## Learning"
   ]
  },
  {
   "cell_type": "code",
   "execution_count": null,
   "metadata": {},
   "outputs": [],
   "source": [
    "print(\"Modeling\")\n",
    "cv_scores = []\n",
    "xgb_preds = []\n",
    "submission = pd.DataFrame.from_dict({'id': test['id']})\n",
    "for class_name in class_names:\n",
    "    train_target = train[class_name]\n",
    "    # Split out a validation set\n",
    "    X_train, X_valid, y_train, y_valid = train_test_split(\n",
    "        train_features, train_target, test_size=0.25, random_state=23)\n",
    "\n",
    "    xgb_params = {'eta': 0.3, \n",
    "              'max_depth': 5, \n",
    "              'subsample': 0.8, \n",
    "              'colsample_bytree': 0.8, \n",
    "              'objective': 'binary:logistic', \n",
    "              'eval_metric': 'auc', \n",
    "              'seed': 23\n",
    "             }\n",
    "\n",
    "    d_train = xgb.DMatrix(X_train, y_train)\n",
    "    d_valid = xgb.DMatrix(X_valid, y_valid)\n",
    "\n",
    "    watchlist = [(d_valid, 'valid')]\n",
    "    model = xgb.train(xgb_params, d_train, 200, watchlist, verbose_eval=False, early_stopping_rounds=30)\n",
    "    print(\"class Name: {}\".format(class_name))\n",
    "    print(model.attributes()['best_msg'])\n",
    "    cv_scores.append(float(model.attributes()['best_score']))\n",
    "    submission[class_name] = model.predict(d_test)\n",
    "    del X_train, X_valid, y_train, y_valid\n",
    "    gc.collect()\n",
    "print('Total CV score is {}'.format(np.mean(cv_scores)))\n",
    "submission.to_csv('submission.csv', index=False)"
   ]
  },
  {
   "cell_type": "markdown",
   "metadata": {},
   "source": [
    "### Examples"
   ]
  },
  {
   "cell_type": "code",
   "execution_count": null,
   "metadata": {},
   "outputs": [],
   "source": [
    "# https://www.kaggle.com/codename007/toxic-avenger-spin-lb-0-9832\n",
    "ave = pd.read_csv(\"../input/toxic-avenger/submission.csv\")\n",
    "\n",
    "# https://www.kaggle.com/tunguz/blend-of-blends-1/output \n",
    "supbl= pd.read_csv('../input/blend-of-blends-1/superblend_1.csv')\n",
    "\n",
    "# https://www.kaggle.com/nuhsikander/blend-of-blends-can-be-toxic-lb-0-9837 0.9837\n",
    "best = pd.read_csv('../input/toxic-hight-of-blending/hight_of_blending.csv')\n",
    "\n",
    "# https://www.kaggle.com/ogrellier/wordbatch-fm-ftrl-using-mse-lb-0-9804 0.9805 FM FLTR\n",
    "wordbtch = pd.read_csv('../input/wordbatch-fm-ftrl-using-mse-lb-0-9804/lvl0_wordbatch_clean_sub.csv')\n",
    "\n",
    "# https://www.kaggle.com/hhstrand/oof-stacking-regime 0.9858\n",
    "oofs = pd.read_csv('../input/oof-stacking-regime/submission.csv')\n",
    "\n",
    "# https://www.kaggle.com/antmarakis/another-blend-tinkered-by-correlation - 0.9855\n",
    "corrbl = pd.read_csv('../input/another-blend-tinkered-by-correlation/corr_blend.csv')\n",
    "\n",
    "# GRU pooling with R - https://www.kaggle.com/krosam/why-a-such-low-score-with-r-and-keras 0.9835\n",
    "rkera = pd.read_csv('../input/why-a-such-low-score-with-r-and-keras/submission.csv')\n",
    "\n",
    "# https://www.kaggle.com/ogrellier/lgbm-with-words-and-chars-n-gram 0.9792\n",
    "lgbm = pd.read_csv('../input/lgbm-with-words-and-chars-n-gram/lvl0_lgbm_clean_sub.csv')\n",
    "\n",
    "# https://www.kaggle.com/kailex/tidy-xgboost-glmnet-text2vec-lsa 0.9786\n",
    "tidy = pd.read_csv('../input/tidy-xgboost-glmnet-text2vec-lsa/tidy_xgb_glm.csv')\n",
    "\n",
    "# https://www.kaggle.com/eashish/bidirectional-gru-with-convolution\n",
    "grucnn = pd.read_csv('../input/bi-gru-cnn-poolings/submission.csv')\n",
    "\n",
    "# https://www.kaggle.com/eashish/bidirectional-gru-with-convolution\n",
    "bilst = pd.read_csv('../input/bidirectional-gru-with-convolution/submission.csv')\n",
    "\n",
    "# https://www.kaggle.com/prashantkikani/pooled-gru-glove-with-preprocessing 0.9823\n",
    "gruglo = pd.read_csv(\"../input/pooled-gru-glove-with-preprocessing/submission.csv\")\n",
    "\n",
    "# https://www.kaggle.com/zhbain/pooled-gru-fasttext-6c07c9/code #0.9833\n",
    "fast = pd.read_csv('../input/pooled-gru-fasttext-6c07c9/submission.csv')"
   ]
  }
 ],
 "metadata": {
  "kernelspec": {
   "display_name": "Python 3",
   "language": "python",
   "name": "python3"
  },
  "language_info": {
   "codemirror_mode": {
    "name": "ipython",
    "version": 3
   },
   "file_extension": ".py",
   "mimetype": "text/x-python",
   "name": "python",
   "nbconvert_exporter": "python",
   "pygments_lexer": "ipython3",
   "version": "3.5.2"
  }
 },
 "nbformat": 4,
 "nbformat_minor": 2
}
